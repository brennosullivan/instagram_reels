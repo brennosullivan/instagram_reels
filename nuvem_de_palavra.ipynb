{
 "cells": [
  {
   "cell_type": "code",
   "execution_count": null,
   "id": "6dc097cf",
   "metadata": {},
   "outputs": [],
   "source": [
    "!pip install wordcloud"
   ]
  },
  {
   "cell_type": "code",
   "execution_count": null,
   "id": "9110918e",
   "metadata": {},
   "outputs": [],
   "source": [
    "pip install --upgrade Pillow"
   ]
  },
  {
   "cell_type": "code",
   "execution_count": null,
   "id": "b9a216c6",
   "metadata": {},
   "outputs": [],
   "source": [
    "!pip install pypdf"
   ]
  },
  {
   "cell_type": "code",
   "execution_count": null,
   "id": "253d06f1",
   "metadata": {},
   "outputs": [],
   "source": [
    "from pypdf import PdfReader\n",
    "from wordcloud import WordCloud, STOPWORDS, ImageColorGenerator\n",
    "import matplotlib.pyplot as plt"
   ]
  },
  {
   "cell_type": "code",
   "execution_count": null,
   "id": "c801531a",
   "metadata": {},
   "outputs": [],
   "source": [
    "reader = PdfReader(\"resultado_klabin_2022.pdf\")\n",
    "text = \"\"\n",
    "for page in reader.pages:\n",
    "    text += page.extract_text()"
   ]
  },
  {
   "cell_type": "code",
   "execution_count": null,
   "id": "73b11ada",
   "metadata": {},
   "outputs": [],
   "source": [
    "conectivos = set(STOPWORDS)\n",
    "conectivos.update([\"da\", \"meu\", \"em\", \"e\", \"você\", \"de\", \"ao\", \"os\", 'na', 'o', '4T21', 'para', 'milhões',\n",
    "                  'resultado', 'que', 'nas', 'dos', \"n\", \"p\", \"4T22\", \"foi\", 'ano', 'Klabin', '3T22', 'resultados',\n",
    "                  'trimestre'])"
   ]
  },
  {
   "cell_type": "code",
   "execution_count": null,
   "id": "26d19493",
   "metadata": {},
   "outputs": [],
   "source": [
    "nuvem_palavras = WordCloud(stopwords = conectivos, background_color = 'black', \n",
    "                           width = 1920, height = 1080).generate(text)"
   ]
  },
  {
   "cell_type": "code",
   "execution_count": null,
   "id": "e8818c25",
   "metadata": {},
   "outputs": [],
   "source": [
    "fig, ax = plt.subplots()\n",
    "\n",
    "ax.imshow(nuvem_palavras)\n",
    "ax.set_axis_off()"
   ]
  },
  {
   "cell_type": "code",
   "execution_count": null,
   "id": "504bda31",
   "metadata": {},
   "outputs": [],
   "source": []
  }
 ],
 "metadata": {
  "kernelspec": {
   "display_name": "Python 3 (ipykernel)",
   "language": "python",
   "name": "python3"
  },
  "language_info": {
   "codemirror_mode": {
    "name": "ipython",
    "version": 3
   },
   "file_extension": ".py",
   "mimetype": "text/x-python",
   "name": "python",
   "nbconvert_exporter": "python",
   "pygments_lexer": "ipython3",
   "version": "3.8.10"
  }
 },
 "nbformat": 4,
 "nbformat_minor": 5
}
