{
 "cells": [
  {
   "cell_type": "markdown",
   "id": "335f2497",
   "metadata": {},
   "source": [
    "# Comprando e vendendo ações com o Python"
   ]
  },
  {
   "cell_type": "code",
   "execution_count": 42,
   "id": "54e2af2b",
   "metadata": {},
   "outputs": [],
   "source": [
    "import MetaTrader5 as mt5"
   ]
  },
  {
   "cell_type": "code",
   "execution_count": 43,
   "id": "4b4ce361",
   "metadata": {},
   "outputs": [
    {
     "data": {
      "text/plain": [
       "True"
      ]
     },
     "execution_count": 43,
     "metadata": {},
     "output_type": "execute_result"
    }
   ],
   "source": [
    "mt5.initialize()"
   ]
  },
  {
   "cell_type": "code",
   "execution_count": 44,
   "id": "2844424f",
   "metadata": {},
   "outputs": [],
   "source": [
    "ticker = 'PETR4'"
   ]
  },
  {
   "cell_type": "code",
   "execution_count": 45,
   "id": "dff0261d",
   "metadata": {},
   "outputs": [
    {
     "data": {
      "text/plain": [
       "True"
      ]
     },
     "execution_count": 45,
     "metadata": {},
     "output_type": "execute_result"
    }
   ],
   "source": [
    "info_acoes = mt5.symbol_info(ticker)\n",
    "mt5.symbol_select(ticker)"
   ]
  },
  {
   "cell_type": "code",
   "execution_count": 46,
   "id": "03cac703",
   "metadata": {},
   "outputs": [],
   "source": [
    "qtd = 100.0\n",
    "tick_min = mt5.symbol_info(ticker).point\n",
    "preco = mt5.symbol_info_tick(ticker).ask\n",
    "ordem_compra = {\n",
    "    \"action\": mt5.TRADE_ACTION_DEAL,\n",
    "    \"symbol\": ticker,\n",
    "    \"volume\": qtd,\n",
    "    \"type\": mt5.ORDER_TYPE_BUY,\n",
    "    \"price\": preco,\n",
    "    \"sl\": preco - 10 * tick_min,\n",
    "    \"tp\": preco + 10 * tick_min,\n",
    "    \"magic\": 1,\n",
    "    \"comment\": \"Automatizando trades\",\n",
    "    \"type_time\": mt5.ORDER_TIME_DAY,\n",
    "    \"type_filling\": mt5.ORDER_FILLING_RETURN,\n",
    "}\n",
    "result_compra = mt5.order_send(ordem_compra)"
   ]
  },
  {
   "cell_type": "code",
   "execution_count": null,
   "id": "8556edc3",
   "metadata": {},
   "outputs": [],
   "source": [
    "print(result_compra)"
   ]
  },
  {
   "cell_type": "code",
   "execution_count": null,
   "id": "d9c8e4d1",
   "metadata": {},
   "outputs": [],
   "source": []
  },
  {
   "cell_type": "code",
   "execution_count": null,
   "id": "2d935ea7",
   "metadata": {},
   "outputs": [],
   "source": []
  },
  {
   "cell_type": "code",
   "execution_count": null,
   "id": "3dff8140",
   "metadata": {},
   "outputs": [],
   "source": []
  },
  {
   "cell_type": "code",
   "execution_count": null,
   "id": "4739b605",
   "metadata": {},
   "outputs": [],
   "source": []
  }
 ],
 "metadata": {
  "kernelspec": {
   "display_name": "Python 3 (ipykernel)",
   "language": "python",
   "name": "python3"
  },
  "language_info": {
   "codemirror_mode": {
    "name": "ipython",
    "version": 3
   },
   "file_extension": ".py",
   "mimetype": "text/x-python",
   "name": "python",
   "nbconvert_exporter": "python",
   "pygments_lexer": "ipython3",
   "version": "3.9.12"
  }
 },
 "nbformat": 4,
 "nbformat_minor": 5
}
