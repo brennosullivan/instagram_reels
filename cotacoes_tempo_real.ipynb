{
 "cells": [
  {
   "cell_type": "markdown",
   "id": "27e9d9d5",
   "metadata": {},
   "source": [
    "# Cotações em tempo real Python"
   ]
  },
  {
   "cell_type": "code",
   "execution_count": null,
   "id": "511b48e1",
   "metadata": {},
   "outputs": [],
   "source": [
    "!pip install MetaTrader5"
   ]
  },
  {
   "cell_type": "code",
   "execution_count": 14,
   "id": "e0d2be58",
   "metadata": {},
   "outputs": [],
   "source": [
    "import MetaTrader5 as mt5\n",
    "import time"
   ]
  },
  {
   "cell_type": "code",
   "execution_count": 15,
   "id": "d5948162",
   "metadata": {},
   "outputs": [
    {
     "data": {
      "text/plain": [
       "True"
      ]
     },
     "execution_count": 15,
     "metadata": {},
     "output_type": "execute_result"
    }
   ],
   "source": [
    "mt5.initialize()"
   ]
  },
  {
   "cell_type": "code",
   "execution_count": 16,
   "id": "db58f622",
   "metadata": {},
   "outputs": [
    {
     "data": {
      "text/plain": [
       "True"
      ]
     },
     "execution_count": 16,
     "metadata": {},
     "output_type": "execute_result"
    }
   ],
   "source": [
    "info_acoes = mt5.symbol_select(acao)"
   ]
  },
  {
   "cell_type": "code",
   "execution_count": null,
   "id": "f1301ae5",
   "metadata": {},
   "outputs": [],
   "source": [
    "mt5.symbol_select(acao)"
   ]
  },
  {
   "cell_type": "code",
   "execution_count": 17,
   "id": "201af65d",
   "metadata": {},
   "outputs": [
    {
     "name": "stdout",
     "output_type": "stream",
     "text": [
      "O fechamento é 108110.0\n",
      "Valor de compra: 108110.0\n",
      "Valor de venda: 108105.0\n",
      "----------------------------\n",
      "O fechamento é 108105.0\n",
      "Valor de compra: 108110.0\n",
      "Valor de venda: 108100.0\n",
      "----------------------------\n",
      "O fechamento é 108105.0\n",
      "Valor de compra: 108110.0\n",
      "Valor de venda: 108105.0\n",
      "----------------------------\n",
      "O fechamento é 108105.0\n",
      "Valor de compra: 108110.0\n",
      "Valor de venda: 108105.0\n",
      "----------------------------\n",
      "O fechamento é 108105.0\n",
      "Valor de compra: 108110.0\n",
      "Valor de venda: 108105.0\n",
      "----------------------------\n",
      "O fechamento é 108100.0\n",
      "Valor de compra: 108105.0\n",
      "Valor de venda: 108100.0\n",
      "----------------------------\n",
      "O fechamento é 108100.0\n",
      "Valor de compra: 108105.0\n",
      "Valor de venda: 108100.0\n",
      "----------------------------\n",
      "O fechamento é 108100.0\n",
      "Valor de compra: 108105.0\n",
      "Valor de venda: 108100.0\n",
      "----------------------------\n",
      "O fechamento é 108090.0\n",
      "Valor de compra: 108095.0\n",
      "Valor de venda: 108090.0\n",
      "----------------------------\n",
      "O fechamento é 108095.0\n",
      "Valor de compra: 108095.0\n",
      "Valor de venda: 108090.0\n",
      "----------------------------\n"
     ]
    }
   ],
   "source": [
    "tempo = time.time() + 10\n",
    "\n",
    "while time.time() < tempo:\n",
    "    \n",
    "    time.sleep(1)\n",
    "    tick = mt5.symbol_info_tick(\"WINM23\")\n",
    "    print(f\"O fechamento é {tick.last}\")\n",
    "    print(f\"Valor de compra: {tick.ask}\")\n",
    "    print(f\"Valor de venda: {tick.bid}\")\n",
    "    print(\"----------------------------\")"
   ]
  },
  {
   "cell_type": "code",
   "execution_count": null,
   "id": "7e4290fb",
   "metadata": {},
   "outputs": [],
   "source": []
  }
 ],
 "metadata": {
  "kernelspec": {
   "display_name": "Python 3 (ipykernel)",
   "language": "python",
   "name": "python3"
  },
  "language_info": {
   "codemirror_mode": {
    "name": "ipython",
    "version": 3
   },
   "file_extension": ".py",
   "mimetype": "text/x-python",
   "name": "python",
   "nbconvert_exporter": "python",
   "pygments_lexer": "ipython3",
   "version": "3.9.12"
  }
 },
 "nbformat": 4,
 "nbformat_minor": 5
}
