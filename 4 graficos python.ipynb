{
 "cells": [
  {
   "cell_type": "code",
   "execution_count": null,
   "id": "9cbb1827",
   "metadata": {},
   "outputs": [],
   "source": [
    "import yfinance as yf\n",
    "import quantstats as qs"
   ]
  },
  {
   "cell_type": "code",
   "execution_count": null,
   "id": "918b7687",
   "metadata": {},
   "outputs": [],
   "source": []
  },
  {
   "cell_type": "code",
   "execution_count": null,
   "id": "e0fc931f",
   "metadata": {},
   "outputs": [],
   "source": [
    "dados = yf.download(\"AMER3.SA\", \"2019-01-01\", \"2023-01-16\")[[\"Adj Close\", \"Volume\"]]\n",
    "\n",
    "dados[\"Adj Close\"].plot(kind = \"line\", title = \"Cotação Lojas Americanas\", grid = False)"
   ]
  },
  {
   "cell_type": "code",
   "execution_count": null,
   "id": "1628a265",
   "metadata": {},
   "outputs": [],
   "source": [
    "retornos_anuais = dados['Adj Close'].resample(\"Y\").last().pct_change().dropna()\n",
    "retornos_anuais.index = retornos_anuais.index.year\n",
    "retornos_anuais.plot(kind = \"barh\", title = \"Retornos Anuais Americanas\", grid = False)"
   ]
  },
  {
   "cell_type": "code",
   "execution_count": null,
   "id": "9cf25990",
   "metadata": {},
   "outputs": [],
   "source": [
    "retornos_mensais = dados['Adj Close'].resample(\"M\").last().pct_change().dropna()\n",
    "\n",
    "qs.extend_pandas()\n",
    "\n",
    "retornos_mensais.plot_monthly_heatmap()"
   ]
  },
  {
   "cell_type": "code",
   "execution_count": null,
   "id": "e5451566",
   "metadata": {},
   "outputs": [],
   "source": [
    "retornos_mensais = dados['Adj Close'].resample(\"M\").pct_change().dropna()\n",
    "\n",
    "qs.extend_pandas()\n",
    "\n",
    "retornos_mensais.plot_monthly_heatmap()"
   ]
  }
 ],
 "metadata": {
  "kernelspec": {
   "display_name": "base",
   "language": "python",
   "name": "python3"
  },
  "language_info": {
   "codemirror_mode": {
    "name": "ipython",
    "version": 3
   },
   "file_extension": ".py",
   "mimetype": "text/x-python",
   "name": "python",
   "nbconvert_exporter": "python",
   "pygments_lexer": "ipython3",
   "version": "3.9.12 (main, Apr  4 2022, 05:22:27) [MSC v.1916 64 bit (AMD64)]"
  },
  "vscode": {
   "interpreter": {
    "hash": "e3901721c1dc43833de5c21f729cdb91c67d656177384520d5b14669c55aa120"
   }
  }
 },
 "nbformat": 4,
 "nbformat_minor": 5
}
