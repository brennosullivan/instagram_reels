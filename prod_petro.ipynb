{
 "cells": [
  {
   "cell_type": "markdown",
   "id": "3b2e0d12",
   "metadata": {},
   "source": [
    "# Produção de petróleo no BR ano a ano."
   ]
  },
  {
   "cell_type": "code",
   "execution_count": 2,
   "id": "d92c02a7",
   "metadata": {
    "scrolled": true
   },
   "outputs": [],
   "source": [
    "import requests\n",
    "import pandas as pd"
   ]
  },
  {
   "cell_type": "code",
   "execution_count": 3,
   "id": "44dd4817",
   "metadata": {},
   "outputs": [],
   "source": [
    "paises = \"BR\"\n",
    "indicadores = \"77842\" #cod producao de petroleo\n",
    "\n",
    "response = requests.get(f'''\n",
    "https://servicodados.ibge.gov.br/api/v1/paises/{paises}/indicadores/{indicadores}\n",
    "''')\n",
    "\n",
    "data = response.json()\n",
    "\n",
    "lista_anos = []\n",
    "lista_valores = []"
   ]
  },
  {
   "cell_type": "code",
   "execution_count": 4,
   "id": "041aa278",
   "metadata": {},
   "outputs": [
    {
     "data": {
      "text/html": [
       "<div>\n",
       "<style scoped>\n",
       "    .dataframe tbody tr th:only-of-type {\n",
       "        vertical-align: middle;\n",
       "    }\n",
       "\n",
       "    .dataframe tbody tr th {\n",
       "        vertical-align: top;\n",
       "    }\n",
       "\n",
       "    .dataframe thead th {\n",
       "        text-align: right;\n",
       "    }\n",
       "</style>\n",
       "<table border=\"1\" class=\"dataframe\">\n",
       "  <thead>\n",
       "    <tr style=\"text-align: right;\">\n",
       "      <th></th>\n",
       "      <th>Barris p/ dia (x1000)</th>\n",
       "    </tr>\n",
       "    <tr>\n",
       "      <th>Anos</th>\n",
       "      <th></th>\n",
       "    </tr>\n",
       "  </thead>\n",
       "  <tbody>\n",
       "    <tr>\n",
       "      <th>2008</th>\n",
       "      <td>1897</td>\n",
       "    </tr>\n",
       "    <tr>\n",
       "      <th>2009</th>\n",
       "      <td>2029</td>\n",
       "    </tr>\n",
       "    <tr>\n",
       "      <th>2010</th>\n",
       "      <td>2137</td>\n",
       "    </tr>\n",
       "    <tr>\n",
       "      <th>2011</th>\n",
       "      <td>2179</td>\n",
       "    </tr>\n",
       "    <tr>\n",
       "      <th>2012</th>\n",
       "      <td>2145</td>\n",
       "    </tr>\n",
       "    <tr>\n",
       "      <th>2013</th>\n",
       "      <td>2110</td>\n",
       "    </tr>\n",
       "    <tr>\n",
       "      <th>2014</th>\n",
       "      <td>2341</td>\n",
       "    </tr>\n",
       "    <tr>\n",
       "      <th>2015</th>\n",
       "      <td>2525</td>\n",
       "    </tr>\n",
       "    <tr>\n",
       "      <th>2016</th>\n",
       "      <td>2591</td>\n",
       "    </tr>\n",
       "    <tr>\n",
       "      <th>2017</th>\n",
       "      <td>2721</td>\n",
       "    </tr>\n",
       "    <tr>\n",
       "      <th>2018</th>\n",
       "      <td>2679</td>\n",
       "    </tr>\n",
       "    <tr>\n",
       "      <th>2019</th>\n",
       "      <td>2876</td>\n",
       "    </tr>\n",
       "    <tr>\n",
       "      <th>2020</th>\n",
       "      <td>3026</td>\n",
       "    </tr>\n",
       "  </tbody>\n",
       "</table>\n",
       "</div>"
      ],
      "text/plain": [
       "     Barris p/ dia (x1000)\n",
       "Anos                      \n",
       "2008                  1897\n",
       "2009                  2029\n",
       "2010                  2137\n",
       "2011                  2179\n",
       "2012                  2145\n",
       "2013                  2110\n",
       "2014                  2341\n",
       "2015                  2525\n",
       "2016                  2591\n",
       "2017                  2721\n",
       "2018                  2679\n",
       "2019                  2876\n",
       "2020                  3026"
      ]
     },
     "execution_count": 4,
     "metadata": {},
     "output_type": "execute_result"
    }
   ],
   "source": [
    "for informacoes in data[0]['series'][0]['serie']:\n",
    "    \n",
    "    valores = list(informacoes.items())\n",
    "    lista_anos.append(valores[0][0])\n",
    "    lista_valores.append(valores[0][1])\n",
    "    \n",
    "df = pd.DataFrame(list(zip(lista_anos, lista_valores)),\n",
    "                 columns = ['Anos', 'Barris p/ dia (x1000)']).dropna()\n",
    "\n",
    "df = df.set_index(\"Anos\")\n",
    "\n",
    "df"
   ]
  },
  {
   "cell_type": "code",
   "execution_count": null,
   "id": "4a5d7d3e",
   "metadata": {},
   "outputs": [],
   "source": []
  }
 ],
 "metadata": {
  "kernelspec": {
   "display_name": "Python 3 (ipykernel)",
   "language": "python",
   "name": "python3"
  },
  "language_info": {
   "codemirror_mode": {
    "name": "ipython",
    "version": 3
   },
   "file_extension": ".py",
   "mimetype": "text/x-python",
   "name": "python",
   "nbconvert_exporter": "python",
   "pygments_lexer": "ipython3",
   "version": "3.9.12"
  }
 },
 "nbformat": 4,
 "nbformat_minor": 5
}
