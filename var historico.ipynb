{
 "cells": [
  {
   "cell_type": "code",
   "execution_count": null,
   "id": "beb6c48d",
   "metadata": {},
   "outputs": [],
   "source": [
    "import pandas as pd\n",
    "import yfinance as yf"
   ]
  },
  {
   "cell_type": "code",
   "execution_count": null,
   "id": "e7a89f23",
   "metadata": {},
   "outputs": [],
   "source": [
    "petr = yf.download(\"PETR4.SA\", start = \"2020-12-31\")\n",
    "\n",
    "petr"
   ]
  },
  {
   "cell_type": "code",
   "execution_count": null,
   "id": "f54ecc21",
   "metadata": {},
   "outputs": [],
   "source": [
    "petr['retornos'] = petr['Adj Close'].pct_change()\n",
    "\n",
    "petr = petr.dropna()"
   ]
  },
  {
   "cell_type": "code",
   "execution_count": null,
   "id": "cc2e7d77",
   "metadata": {},
   "outputs": [],
   "source": [
    "quantidade_de_dias = len(petr['retornos'])\n",
    "\n",
    "retornos = petr['retornos'].sort_values(ascending = True).to_list()\n",
    "\n",
    "var_95 = retornos[(int(quantidade_de_dias*0.05))]"
   ]
  },
  {
   "cell_type": "code",
   "execution_count": null,
   "id": "b0085f46",
   "metadata": {},
   "outputs": [],
   "source": [
    "print(f\"Em 95% dos dias a PETR4 caiu menos do que {round(var_95 * 100, 2)}%\")"
   ]
  },
  {
   "cell_type": "code",
   "execution_count": null,
   "id": "224738f2",
   "metadata": {},
   "outputs": [],
   "source": []
  }
 ],
 "metadata": {
  "kernelspec": {
   "display_name": "Python 3 (ipykernel)",
   "language": "python",
   "name": "python3"
  },
  "language_info": {
   "codemirror_mode": {
    "name": "ipython",
    "version": 3
   },
   "file_extension": ".py",
   "mimetype": "text/x-python",
   "name": "python",
   "nbconvert_exporter": "python",
   "pygments_lexer": "ipython3",
   "version": "3.8.10"
  }
 },
 "nbformat": 4,
 "nbformat_minor": 5
}
