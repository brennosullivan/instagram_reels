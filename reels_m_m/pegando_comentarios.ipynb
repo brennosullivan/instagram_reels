{
 "cells": [
  {
   "cell_type": "code",
   "execution_count": 24,
   "metadata": {},
   "outputs": [],
   "source": [
    "import pandas as pd\n",
    "from selenium import webdriver\n",
    "from selenium.webdriver.chrome.options import Options\n",
    "from webdriver_manager.chrome import ChromeDriverManager\n",
    "from selenium.webdriver.chrome.service import Service\n",
    "from selenium.webdriver.support.ui import WebDriverWait\n",
    "from selenium.webdriver.support import expected_conditions as ec\n",
    "from selenium.webdriver.common.by import By\n",
    "import time\n",
    "from bs4 import BeautifulSoup\n",
    "import re\n",
    "import os\n",
    "from matplotlib import pyplot as plt\n",
    "import mplcyberpunk\n",
    "plt.style.use(\"cyberpunk\")\n",
    "from datetime import datetime\n",
    "\n",
    "usuario = os.getenv(\"usuario\")\n",
    "senha = os.getenv(\"senha\")\n",
    "\n",
    "headers={'user-agent': 'Mozilla/5.0 (X11; Linux x86_64) AppleWebKit/537.36 (KHTML, like Gecko) Chrome/106.0.0.0 Safari/537.36'}\n",
    "\n"
   ]
  },
  {
   "cell_type": "code",
   "execution_count": null,
   "metadata": {},
   "outputs": [],
   "source": [
    "chrome_options = Options()\n",
    "# chrome_options.add_argument('--headless')\n",
    "chrome_options.add_argument('--no-sandbox')\n",
    "chrome_options.add_argument('--disable-dev-shm-usage')\n",
    "chrome_options.add_argument('--log-level=3')\n",
    "chrome_options.add_argument('--disable-gpu')\n",
    "chrome_options.add_experimental_option('excludeSwitches', ['enable-logging'])\n"
   ]
  },
  {
   "cell_type": "code",
   "execution_count": null,
   "metadata": {},
   "outputs": [],
   "source": [
    "service = Service(executable_path=ChromeDriverManager().install())\n",
    "driver = webdriver.Chrome(service=service, options=chrome_options)\n",
    "\n",
    "url = \"https://www.instagram.com/p/CqJeJ_FgFxP/\"\n",
    "driver.get(url)\n",
    "driver.implicitly_wait(20)\n",
    "driver.maximize_window()\n",
    "time.sleep(3)\n",
    "\n",
    "WebDriverWait(driver, 10).until(ec.element_to_be_clickable(\n",
    "    (By.XPATH, \"/html/body/div[2]/div/div/div[1]/div/div/div/div[1]/section/nav/div[2]/div/div/div[3]/div/div[2]/div[1]/a/button\"))).click()\n",
    "\n",
    "caixa_usuario = driver.find_element(\"xpath\", \"/html/body/div[2]/div/div/div[1]/div/div/div/div[1]/section/main/div/div/div[1]/div[2]/form/div/div[1]/div/label/input\")\n",
    "caixa_usuario.send_keys(usuario)\n",
    "\n",
    "caixa_senha = driver.find_element(\"xpath\", \"/html/body/div[2]/div/div/div[1]/div/div/div/div[1]/section/main/div/div/div[1]/div[2]/form/div/div[2]/div/label/input\")\n",
    "caixa_senha.send_keys(senha)\n",
    "time.sleep(3)\n",
    "WebDriverWait(driver, 10).until(ec.element_to_be_clickable(\n",
    "    (By.XPATH, \"/html/body/div[2]/div/div/div[1]/div/div/div/div[1]/section/main/div/div/div[1]/div[2]/form/div/div[3]/button\"))).click() \n",
    "time.sleep(3)\n",
    "WebDriverWait(driver, 10).until(ec.element_to_be_clickable(\n",
    "    (By.XPATH, \"/html/body/div[2]/div/div/div[1]/div/div/div/div[1]/div[1]/div[2]/section/main/div/div/div/section/div/button\"))).click() \n",
    "\n",
    "time.sleep(3)\n",
    "\n",
    "while True:\n",
    "    try:\n",
    "        WebDriverWait(driver, 10).until(ec.element_to_be_clickable(\n",
    "            (By.XPATH, \"/html/body/div[2]/div/div/div[1]/div/div/div/div[1]/div[1]/div[2]/section/main/div[1]/div[1]/article/div/div[2]/div/div[2]/div[1]/ul/li/div/button\"))).click() \n",
    "    except Exception as error:\n",
    "        print(error)\n",
    "        break\n",
    "\n",
    "inspect = '/html/body/div[2]/div/div/div[1]/div/div/div/div[1]/div[1]/div[2]/section/main/div[1]/div[1]/article/div/div[2]/div/div[2]/div[1]'\n",
    "\n",
    "element = driver.find_element('xpath', f'{inspect}')\n",
    "html_element = element.get_attribute('outerHTML')\n",
    "soup = BeautifulSoup(html_element, 'html.parser')"
   ]
  },
  {
   "cell_type": "code",
   "execution_count": null,
   "metadata": {},
   "outputs": [],
   "source": [
    "lista_bloco = soup.find_all('ul',\"_a9ym\")\n",
    "\n",
    "lista_numeros = []\n",
    "lista_textos = []\n",
    "lista_user = []\n",
    "lista_data = []\n",
    "for i,bloco in enumerate(lista_bloco):\n",
    "    numero = re.compile(r'\\d+')\n",
    "    comentarios = bloco.find(\"span\",\"_aacl _aaco _aacu _aacx _aad7 _aade\").text\n",
    "    numeros = numero.findall(comentarios)\n",
    "    dias = bloco.find(\"time\", \"_a9ze _a9zf\")['datetime']\n",
    "    nome = bloco.find(\"h3\",\"_a9zc\").text\n",
    "\n",
    "    if len(numeros) == 1:\n",
    "        lista_numeros.append(numeros[0])\n",
    "        lista_textos.append(comentarios)\n",
    "        lista_user.append(nome)\n",
    "        lista_data.append(dias)\n",
    "\n",
    "df = pd.DataFrame(list(zip(lista_user,lista_numeros,lista_textos,lista_data)), columns=['user','numeros','comentarios',\"data\"])\n",
    "\n",
    "df.to_csv(\"comentarios.csv\")"
   ]
  },
  {
   "cell_type": "code",
   "execution_count": 30,
   "metadata": {},
   "outputs": [
    {
     "data": {
      "text/html": [
       "<div>\n",
       "<style scoped>\n",
       "    .dataframe tbody tr th:only-of-type {\n",
       "        vertical-align: middle;\n",
       "    }\n",
       "\n",
       "    .dataframe tbody tr th {\n",
       "        vertical-align: top;\n",
       "    }\n",
       "\n",
       "    .dataframe thead th {\n",
       "        text-align: right;\n",
       "    }\n",
       "</style>\n",
       "<table border=\"1\" class=\"dataframe\">\n",
       "  <thead>\n",
       "    <tr style=\"text-align: right;\">\n",
       "      <th></th>\n",
       "      <th>user</th>\n",
       "      <th>numeros</th>\n",
       "      <th>comentarios</th>\n",
       "      <th>data</th>\n",
       "    </tr>\n",
       "  </thead>\n",
       "  <tbody>\n",
       "    <tr>\n",
       "      <th>0</th>\n",
       "      <td>gustavo_amorimreis</td>\n",
       "      <td>539</td>\n",
       "      <td>Tem 539, extrai todos os comentarios em uma pl...</td>\n",
       "      <td>24/03/2023 01:10:42</td>\n",
       "    </tr>\n",
       "    <tr>\n",
       "      <th>1</th>\n",
       "      <td>klausbalzano</td>\n",
       "      <td>432</td>\n",
       "      <td>432, confia</td>\n",
       "      <td>23/03/2023 22:50:56</td>\n",
       "    </tr>\n",
       "    <tr>\n",
       "      <th>2</th>\n",
       "      <td>danielsoares_gec</td>\n",
       "      <td>583</td>\n",
       "      <td>583, eu vou acertar pode anotar aí</td>\n",
       "      <td>28/03/2023 19:26:03</td>\n",
       "    </tr>\n",
       "    <tr>\n",
       "      <th>3</th>\n",
       "      <td>clerinhob</td>\n",
       "      <td>323</td>\n",
       "      <td>323 👏</td>\n",
       "      <td>25/03/2023 15:58:14</td>\n",
       "    </tr>\n",
       "    <tr>\n",
       "      <th>4</th>\n",
       "      <td>michellrupp</td>\n",
       "      <td>429</td>\n",
       "      <td>429 . Acho que todo mundo tentou fazer mais ou...</td>\n",
       "      <td>24/03/2023 10:33:52</td>\n",
       "    </tr>\n",
       "    <tr>\n",
       "      <th>...</th>\n",
       "      <td>...</td>\n",
       "      <td>...</td>\n",
       "      <td>...</td>\n",
       "      <td>...</td>\n",
       "    </tr>\n",
       "    <tr>\n",
       "      <th>3991</th>\n",
       "      <td>lealeal99</td>\n",
       "      <td>126</td>\n",
       "      <td>Tem exatamente 126</td>\n",
       "      <td>23/03/2023 22:34:07</td>\n",
       "    </tr>\n",
       "    <tr>\n",
       "      <th>3992</th>\n",
       "      <td>kennyamada</td>\n",
       "      <td>225</td>\n",
       "      <td>225</td>\n",
       "      <td>23/03/2023 22:34:10</td>\n",
       "    </tr>\n",
       "    <tr>\n",
       "      <th>3993</th>\n",
       "      <td>af121739</td>\n",
       "      <td>148</td>\n",
       "      <td>148</td>\n",
       "      <td>23/03/2023 22:34:11</td>\n",
       "    </tr>\n",
       "    <tr>\n",
       "      <th>3994</th>\n",
       "      <td>marcelobet77</td>\n",
       "      <td>832</td>\n",
       "      <td>832</td>\n",
       "      <td>23/03/2023 22:34:28</td>\n",
       "    </tr>\n",
       "    <tr>\n",
       "      <th>3995</th>\n",
       "      <td>tiagohenriqueth11</td>\n",
       "      <td>278</td>\n",
       "      <td>Exatamente 278</td>\n",
       "      <td>23/03/2023 22:34:30</td>\n",
       "    </tr>\n",
       "  </tbody>\n",
       "</table>\n",
       "<p>3996 rows × 4 columns</p>\n",
       "</div>"
      ],
      "text/plain": [
       "                    user  numeros  \\\n",
       "0     gustavo_amorimreis      539   \n",
       "1           klausbalzano      432   \n",
       "2       danielsoares_gec      583   \n",
       "3              clerinhob      323   \n",
       "4            michellrupp      429   \n",
       "...                  ...      ...   \n",
       "3991           lealeal99      126   \n",
       "3992          kennyamada      225   \n",
       "3993            af121739      148   \n",
       "3994        marcelobet77      832   \n",
       "3995   tiagohenriqueth11      278   \n",
       "\n",
       "                                            comentarios                 data  \n",
       "0     Tem 539, extrai todos os comentarios em uma pl...  24/03/2023 01:10:42  \n",
       "1                                           432, confia  23/03/2023 22:50:56  \n",
       "2                    583, eu vou acertar pode anotar aí  28/03/2023 19:26:03  \n",
       "3                                                 323 👏  25/03/2023 15:58:14  \n",
       "4     429 . Acho que todo mundo tentou fazer mais ou...  24/03/2023 10:33:52  \n",
       "...                                                 ...                  ...  \n",
       "3991                                 Tem exatamente 126  23/03/2023 22:34:07  \n",
       "3992                                                225  23/03/2023 22:34:10  \n",
       "3993                                                148  23/03/2023 22:34:11  \n",
       "3994                                                832  23/03/2023 22:34:28  \n",
       "3995                                     Exatamente 278  23/03/2023 22:34:30  \n",
       "\n",
       "[3996 rows x 4 columns]"
      ]
     },
     "execution_count": 30,
     "metadata": {},
     "output_type": "execute_result"
    }
   ],
   "source": [
    "df = pd.read_csv('comentarios.csv')\n",
    "\n",
    "df = df.drop('Unnamed: 0', axis = 1)\n",
    "\n",
    "date_format = \"%d/%m/%Y %H:%M:%S\"\n",
    "\n",
    "df['data'] = df['data'].apply(lambda x: datetime.strptime(x, '%Y-%m-%dT%H:%M:%S.%fZ'))\n",
    "df['data'] = df['data'].apply(lambda x: x.strftime(date_format))\n",
    "\n",
    "df"
   ]
  },
  {
   "attachments": {},
   "cell_type": "markdown",
   "metadata": {},
   "source": [
    "### Moda, ganhadores, último dígito que mais aparece e números pares/ímpares"
   ]
  },
  {
   "cell_type": "code",
   "execution_count": 31,
   "metadata": {},
   "outputs": [
    {
     "name": "stdout",
     "output_type": "stream",
     "text": [
      "0    540\n",
      "Name: numeros, dtype: int64\n"
     ]
    }
   ],
   "source": [
    "df['numeros'] = df['numeros'].astype(\"int64\")\n",
    "moda = df['numeros'].mode()\n",
    "print(moda)"
   ]
  },
  {
   "cell_type": "code",
   "execution_count": 32,
   "metadata": {},
   "outputs": [
    {
     "data": {
      "text/html": [
       "<div>\n",
       "<style scoped>\n",
       "    .dataframe tbody tr th:only-of-type {\n",
       "        vertical-align: middle;\n",
       "    }\n",
       "\n",
       "    .dataframe tbody tr th {\n",
       "        vertical-align: top;\n",
       "    }\n",
       "\n",
       "    .dataframe thead th {\n",
       "        text-align: right;\n",
       "    }\n",
       "</style>\n",
       "<table border=\"1\" class=\"dataframe\">\n",
       "  <thead>\n",
       "    <tr style=\"text-align: right;\">\n",
       "      <th></th>\n",
       "      <th>user</th>\n",
       "      <th>numeros</th>\n",
       "      <th>comentarios</th>\n",
       "      <th>data</th>\n",
       "    </tr>\n",
       "  </thead>\n",
       "  <tbody>\n",
       "    <tr>\n",
       "      <th>3891</th>\n",
       "      <td>ricardomachado_rm</td>\n",
       "      <td>436</td>\n",
       "      <td>436</td>\n",
       "      <td>23/03/2023 22:30:04</td>\n",
       "    </tr>\n",
       "    <tr>\n",
       "      <th>3029</th>\n",
       "      <td>alcedomedeiros</td>\n",
       "      <td>436</td>\n",
       "      <td>436</td>\n",
       "      <td>23/03/2023 23:12:27</td>\n",
       "    </tr>\n",
       "    <tr>\n",
       "      <th>3263</th>\n",
       "      <td>danniloarruda</td>\n",
       "      <td>436</td>\n",
       "      <td>436</td>\n",
       "      <td>23/03/2023 23:40:25</td>\n",
       "    </tr>\n",
       "    <tr>\n",
       "      <th>2973</th>\n",
       "      <td>_luizakist</td>\n",
       "      <td>436</td>\n",
       "      <td>436</td>\n",
       "      <td>24/03/2023 02:03:08</td>\n",
       "    </tr>\n",
       "    <tr>\n",
       "      <th>1189</th>\n",
       "      <td>lucianacristinagoncalves</td>\n",
       "      <td>436</td>\n",
       "      <td>436 confetes</td>\n",
       "      <td>25/03/2023 12:36:54</td>\n",
       "    </tr>\n",
       "    <tr>\n",
       "      <th>1415</th>\n",
       "      <td>evertonpereira195</td>\n",
       "      <td>436</td>\n",
       "      <td>436</td>\n",
       "      <td>26/03/2023 00:11:14</td>\n",
       "    </tr>\n",
       "    <tr>\n",
       "      <th>851</th>\n",
       "      <td>marceljurado1</td>\n",
       "      <td>436</td>\n",
       "      <td>Tem 436</td>\n",
       "      <td>26/03/2023 23:13:50</td>\n",
       "    </tr>\n",
       "    <tr>\n",
       "      <th>871</th>\n",
       "      <td>brenoovieira</td>\n",
       "      <td>436</td>\n",
       "      <td>436</td>\n",
       "      <td>27/03/2023 00:42:59</td>\n",
       "    </tr>\n",
       "  </tbody>\n",
       "</table>\n",
       "</div>"
      ],
      "text/plain": [
       "                          user  numeros   comentarios                 data\n",
       "3891         ricardomachado_rm      436           436  23/03/2023 22:30:04\n",
       "3029            alcedomedeiros      436           436  23/03/2023 23:12:27\n",
       "3263             danniloarruda      436           436  23/03/2023 23:40:25\n",
       "2973                _luizakist      436           436  24/03/2023 02:03:08\n",
       "1189  lucianacristinagoncalves      436  436 confetes  25/03/2023 12:36:54\n",
       "1415         evertonpereira195      436           436  26/03/2023 00:11:14\n",
       "851              marceljurado1      436       Tem 436  26/03/2023 23:13:50\n",
       "871               brenoovieira      436           436  27/03/2023 00:42:59"
      ]
     },
     "execution_count": 32,
     "metadata": {},
     "output_type": "execute_result"
    }
   ],
   "source": [
    "pessoas_que_acertaram = df[df['numeros'] == 436]\n",
    "pessoas_que_acertaram.sort_values(\"data\")"
   ]
  },
  {
   "cell_type": "code",
   "execution_count": 33,
   "metadata": {},
   "outputs": [
    {
     "data": {
      "text/plain": [
       "ultimo_digito\n",
       "0    946\n",
       "1    219\n",
       "2    454\n",
       "3    340\n",
       "4    348\n",
       "5    343\n",
       "6    310\n",
       "7    432\n",
       "8    379\n",
       "9    225\n",
       "Name: numeros, dtype: int64"
      ]
     },
     "execution_count": 33,
     "metadata": {},
     "output_type": "execute_result"
    }
   ],
   "source": [
    "df['ultimo_digito'] = df['numeros'].astype(str).str.strip().str[-1]\n",
    "ultimos_digitos = df.groupby(\"ultimo_digito\").count()['numeros']\n",
    "\n",
    "ultimos_digitos\n"
   ]
  },
  {
   "cell_type": "code",
   "execution_count": 34,
   "metadata": {},
   "outputs": [
    {
     "name": "stdout",
     "output_type": "stream",
     "text": [
      "Números pares:  2437 Números impares:  1559\n"
     ]
    }
   ],
   "source": [
    "df['paridade'] =  df['numeros'] % 2\n",
    "\n",
    "pares = df.loc[df['paridade'] == 0, 'numeros']\n",
    "\n",
    "impares = df.loc[df['paridade'] == 1, 'numeros']\n",
    "\n",
    "print(\"Números pares: \", len(pares), \"Números impares: \", len(impares))"
   ]
  },
  {
   "attachments": {},
   "cell_type": "markdown",
   "metadata": {},
   "source": [
    "# Tratando a amostra pra calculo de média"
   ]
  },
  {
   "cell_type": "code",
   "execution_count": null,
   "metadata": {},
   "outputs": [],
   "source": [
    "def tryconvert(value, default, *types):\n",
    "    for t in types:\n",
    "        try:\n",
    "            return t(value)\n",
    "        except (ValueError, TypeError):\n",
    "            continue\n",
    "    return default"
   ]
  },
  {
   "cell_type": "code",
   "execution_count": 35,
   "metadata": {},
   "outputs": [],
   "source": [
    "#cropando a amostra no que a gente precisa \n",
    "\n",
    "numeros = df['numeros']\n",
    "\n",
    "numeros = numeros.apply(lambda x: tryconvert(x, pd.NA, int))\n",
    "\n",
    "numeros = numeros.dropna()\n",
    "\n",
    "numeros = numeros.apply(lambda x: x if x < 1500 else pd.NA)\n",
    "\n",
    "numeros = numeros.dropna()\n",
    "\n",
    "numeros = numeros.apply(lambda x: x if x > 75 else pd.NA)\n",
    "\n",
    "numeros = numeros.dropna()"
   ]
  },
  {
   "cell_type": "code",
   "execution_count": 36,
   "metadata": {},
   "outputs": [
    {
     "name": "stdout",
     "output_type": "stream",
     "text": [
      "3884\n",
      "441.6459835221421\n",
      "201.77491215640688\n"
     ]
    }
   ],
   "source": [
    "print(numeros.count()) #tamanho da amostra\n",
    "print(numeros.mean()) #media da amostra\n",
    "print(numeros.std()) #desvio padrão "
   ]
  },
  {
   "cell_type": "code",
   "execution_count": 21,
   "metadata": {},
   "outputs": [
    {
     "data": {
      "image/png": "[encoded data removed]",
      "text/plain": [
       "<Figure size 640x480 with 1 Axes>"
      ]
     },
     "metadata": {},
     "output_type": "display_data"
    }
   ],
   "source": [
    "valores = numeros.values\n",
    "plt.hist(valores, bins = 70)\n",
    "plt.show()"
   ]
  },
  {
   "cell_type": "code",
   "execution_count": null,
   "metadata": {},
   "outputs": [],
   "source": []
  }
 ],
 "metadata": {
  "kernelspec": {
   "display_name": "base",
   "language": "python",
   "name": "python3"
  },
  "language_info": {
   "codemirror_mode": {
    "name": "ipython",
    "version": 3
   },
   "file_extension": ".py",
   "mimetype": "text/x-python",
   "name": "python",
   "nbconvert_exporter": "python",
   "pygments_lexer": "ipython3",
   "version": "3.9.12"
  },
  "orig_nbformat": 4
 },
 "nbformat": 4,
 "nbformat_minor": 2
}
