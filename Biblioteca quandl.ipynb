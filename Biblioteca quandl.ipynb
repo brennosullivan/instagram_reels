{
 "cells": [
  {
   "cell_type": "markdown",
   "id": "810a1d02",
   "metadata": {},
   "source": [
    "# Biblioteca Quandl"
   ]
  },
  {
   "cell_type": "code",
   "execution_count": null,
   "id": "5b7180d8",
   "metadata": {},
   "outputs": [],
   "source": [
    "import quandl\n",
    "import matplotlib.pyplot as plt\n",
    "import mplcyberpunk\n",
    "\n",
    "plt.style.use(\"cyberpunk\")"
   ]
  },
  {
   "cell_type": "code",
   "execution_count": null,
   "id": "9e6cfafa",
   "metadata": {},
   "outputs": [],
   "source": [
    "#SELIC=432\n",
    "#IPCA=13522\n",
    "#DOLAR=10813\n",
    "#PIB=ODA/BRA_NGDPD\n",
    "#PETROLEO=EIA/PET_RWTC_D\n",
    "\n",
    "dados = quandl.get(\"BCB/13522\",start_date=\"2000-01-01\")\n",
    "\n",
    "dados.plot(title=\"IPCA\", legend = False)\n"
   ]
  },
  {
   "cell_type": "code",
   "execution_count": null,
   "id": "158cdac7",
   "metadata": {},
   "outputs": [],
   "source": []
  }
 ],
 "metadata": {
  "kernelspec": {
   "display_name": "Python 3 (ipykernel)",
   "language": "python",
   "name": "python3"
  },
  "language_info": {
   "codemirror_mode": {
    "name": "ipython",
    "version": 3
   },
   "file_extension": ".py",
   "mimetype": "text/x-python",
   "name": "python",
   "nbconvert_exporter": "python",
   "pygments_lexer": "ipython3",
   "version": "3.9.12"
  }
 },
 "nbformat": 4,
 "nbformat_minor": 5
}
