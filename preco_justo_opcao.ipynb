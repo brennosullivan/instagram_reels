{
 "cells": [
  {
   "cell_type": "code",
   "execution_count": null,
   "id": "116b72df",
   "metadata": {},
   "outputs": [],
   "source": [
    "import numpy as np\n",
    "import math\n",
    "from scipy import stats\n",
    "import pandas as pd\n",
    "from datetime import datetime,date\n",
    "\n",
    "data_vencimento = '2022-12-16'\n",
    "data_vencimento = datetime.strptime(data_vencimento,'%Y-%m-%d').date()\n",
    "\n",
    "k = 16.77 #strike\n",
    "tr = 0.1318 #Taxa livre de risco dado em porcentagem (CDI - CDS)\n",
    "t = abs(np.busday_count(data_vencimento,date.today()))/252 #Tempo de maturidade em anos (precisa ser dias uteis)\n",
    "#sigma = #Volatilidade dado em porcentagem (desvio padrão dos retornos)\n",
    "#s = #preço ação\n",
    "\n",
    "\n",
    "#calculando a volatilidade\n",
    "df = pd.read_excel('opcoes.ods')\n",
    "sigma = df['PETR4'].pct_change().dropna().std()\n",
    "s = df['PETR4'][0]\n",
    "\n",
    "\n",
    "#calculando o preco do call\n",
    "d1 = (math.log(s/k)+(tr+sigma**2/2)*t)/(sigma*np.sqrt(t))\n",
    "d2 = d1-sigma*np.sqrt(t)\n",
    "preco_call = round(s*stats.norm.cdf(d1)-k*math.exp(-tr*t)*stats.norm.cdf(d2),3)\n",
    "\n",
    "\n",
    "#calculando a diferença\n",
    "ultimo_call = df['PETRL299'][0]\n",
    "diferenca = round(((ultimo_call - preco_call)/ultimo_call)*100,2)\n",
    "\n",
    "\n",
    "print(f'Preço da call é: R$ {preco_call}')\n",
    "print(f'Diferença entre os preços do call é: {diferenca}%')"
   ]
  }
 ],
 "metadata": {
  "kernelspec": {
   "display_name": "Python 3.9.12 ('base')",
   "language": "python",
   "name": "python3"
  },
  "language_info": {
   "codemirror_mode": {
    "name": "ipython",
    "version": 3
   },
   "file_extension": ".py",
   "mimetype": "text/x-python",
   "name": "python",
   "nbconvert_exporter": "python",
   "pygments_lexer": "ipython3",
   "version": "3.9.12"
  },
  "vscode": {
   "interpreter": {
    "hash": "8b937691f1620d0931efde169351d71bfeeacfc121d1e7e4bc41517c4c90931f"
   }
  }
 },
 "nbformat": 4,
 "nbformat_minor": 5
}
