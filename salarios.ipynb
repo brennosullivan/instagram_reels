{
 "cells": [
  {
   "cell_type": "code",
   "execution_count": 1,
   "id": "588d539e",
   "metadata": {},
   "outputs": [],
   "source": [
    "import matplotlib.pyplot as plt\n",
    "from matplotlib.ticker import FuncFormatter\n",
    "import pandas as pd\n",
    "import numpy as np\n",
    "import seaborn as sns"
   ]
  },
  {
   "cell_type": "code",
   "execution_count": 2,
   "id": "e37fb028",
   "metadata": {},
   "outputs": [
    {
     "data": {
      "text/plain": [
       "[40758250.0,\n",
       " 33307580.0,\n",
       " 73267930.0,\n",
       " 97291000.0,\n",
       " 171035000.0,\n",
       " 180561000.0,\n",
       " 205675000.0,\n",
       " 373103200.0,\n",
       " 335342000.0,\n",
       " 316743200.0,\n",
       " 316743200.0]"
      ]
     },
     "execution_count": 2,
     "metadata": {},
     "output_type": "execute_result"
    }
   ],
   "source": [
    "neymar = [12541000, 11029000, 16921000, 28615000, 43300000, 43300000, 43300000, 56360000, 56360000, 56360000, 56360000]\n",
    "messi = [20543000, 29631000, 28474000, 38284000, 39621000, 70758000, 71000000, 71000000, 63640000, 63640000, 63640000]\n",
    "cr7 = [29026024, 25660189, 29659535, 29736991, 30776506, 50701261, 50703911, 50703911, 26780000, 26780000/2, 200000000]\n",
    "cambio = [3.25, 3.02, 4.33, 3.40, 3.95, 4.17, 4.75, 6.62, 5.95, 5.62, 5.62]\n",
    "\n",
    "neymar = list(np.array(neymar) * np.array(cambio))\n",
    "messi = list(np.array(messi) * np.array(cambio))\n",
    "cr7 = list(np.array(cr7) * np.array(cambio))\n",
    "\n",
    "\n",
    "neymar"
   ]
  },
  {
   "cell_type": "code",
   "execution_count": 3,
   "id": "fcbeaa97",
   "metadata": {},
   "outputs": [
    {
     "data": {
      "text/plain": [
       "[2014, 2015, 2016, 2017, 2018, 2019, 2020, 2021, 2022, 2023]"
      ]
     },
     "execution_count": 3,
     "metadata": {},
     "output_type": "execute_result"
    }
   ],
   "source": [
    "jogadores = [neymar, messi, cr7]\n",
    "nome_jogadores = [\"Neymar\", \"Messi\", \"CR7\"]\n",
    "\n",
    "anos = list(range(2014, 2024))\n",
    "\n",
    "anos"
   ]
  },
  {
   "cell_type": "code",
   "execution_count": 4,
   "id": "e453ba2b",
   "metadata": {},
   "outputs": [
    {
     "data": {
      "text/html": [
       "<div>\n",
       "<style scoped>\n",
       "    .dataframe tbody tr th:only-of-type {\n",
       "        vertical-align: middle;\n",
       "    }\n",
       "\n",
       "    .dataframe tbody tr th {\n",
       "        vertical-align: top;\n",
       "    }\n",
       "\n",
       "    .dataframe thead th {\n",
       "        text-align: right;\n",
       "    }\n",
       "</style>\n",
       "<table border=\"1\" class=\"dataframe\">\n",
       "  <thead>\n",
       "    <tr style=\"text-align: right;\">\n",
       "      <th></th>\n",
       "      <th>Neymar</th>\n",
       "      <th>Messi</th>\n",
       "      <th>CR7</th>\n",
       "    </tr>\n",
       "  </thead>\n",
       "  <tbody>\n",
       "    <tr>\n",
       "      <th>2014</th>\n",
       "      <td>37032915.0</td>\n",
       "      <td>78125185.0</td>\n",
       "      <td>8.591417e+07</td>\n",
       "    </tr>\n",
       "    <tr>\n",
       "      <th>2015</th>\n",
       "      <td>53287755.0</td>\n",
       "      <td>106389020.0</td>\n",
       "      <td>1.029598e+08</td>\n",
       "    </tr>\n",
       "    <tr>\n",
       "      <th>2016</th>\n",
       "      <td>85279465.0</td>\n",
       "      <td>126729010.0</td>\n",
       "      <td>1.147658e+08</td>\n",
       "    </tr>\n",
       "    <tr>\n",
       "      <th>2017</th>\n",
       "      <td>134163000.0</td>\n",
       "      <td>143334275.0</td>\n",
       "      <td>1.113365e+08</td>\n",
       "    </tr>\n",
       "    <tr>\n",
       "      <th>2018</th>\n",
       "      <td>175798000.0</td>\n",
       "      <td>225781905.0</td>\n",
       "      <td>1.664957e+08</td>\n",
       "    </tr>\n",
       "    <tr>\n",
       "      <th>2019</th>\n",
       "      <td>193118000.0</td>\n",
       "      <td>316155430.0</td>\n",
       "      <td>2.261339e+08</td>\n",
       "    </tr>\n",
       "    <tr>\n",
       "      <th>2020</th>\n",
       "      <td>289389100.0</td>\n",
       "      <td>403635000.0</td>\n",
       "      <td>2.882517e+08</td>\n",
       "    </tr>\n",
       "    <tr>\n",
       "      <th>2021</th>\n",
       "      <td>354222600.0</td>\n",
       "      <td>424339000.0</td>\n",
       "      <td>2.475004e+08</td>\n",
       "    </tr>\n",
       "    <tr>\n",
       "      <th>2022</th>\n",
       "      <td>326042600.0</td>\n",
       "      <td>368157400.0</td>\n",
       "      <td>1.549223e+08</td>\n",
       "    </tr>\n",
       "    <tr>\n",
       "      <th>2023</th>\n",
       "      <td>316743200.0</td>\n",
       "      <td>357656800.0</td>\n",
       "      <td>1.124000e+09</td>\n",
       "    </tr>\n",
       "  </tbody>\n",
       "</table>\n",
       "</div>"
      ],
      "text/plain": [
       "           Neymar        Messi           CR7\n",
       "2014   37032915.0   78125185.0  8.591417e+07\n",
       "2015   53287755.0  106389020.0  1.029598e+08\n",
       "2016   85279465.0  126729010.0  1.147658e+08\n",
       "2017  134163000.0  143334275.0  1.113365e+08\n",
       "2018  175798000.0  225781905.0  1.664957e+08\n",
       "2019  193118000.0  316155430.0  2.261339e+08\n",
       "2020  289389100.0  403635000.0  2.882517e+08\n",
       "2021  354222600.0  424339000.0  2.475004e+08\n",
       "2022  326042600.0  368157400.0  1.549223e+08\n",
       "2023  316743200.0  357656800.0  1.124000e+09"
      ]
     },
     "execution_count": 4,
     "metadata": {},
     "output_type": "execute_result"
    }
   ],
   "source": [
    "df_salarios = pd.DataFrame(0, index = anos, columns = nome_jogadores)\n",
    "\n",
    "\n",
    "for z, jogador in enumerate(jogadores):\n",
    "    \n",
    "    salario_anual = []\n",
    "    \n",
    "    for i, ano in enumerate(anos):\n",
    "        \n",
    "        if jogador != cr7:\n",
    "            \n",
    "            salario = jogador[i]/2 + jogador[i + 1]/2\n",
    "            \n",
    "            salario_anual.append(salario)\n",
    "            \n",
    "        else:\n",
    "            \n",
    "            if ano == 2022:\n",
    "                \n",
    "                salario = jogador[i]/2 + jogador[i + 1]\n",
    "            \n",
    "                salario_anual.append(salario)\n",
    "                \n",
    "            elif ano == 2023:\n",
    "                \n",
    "                salario = jogador[i + 1]\n",
    "            \n",
    "                salario_anual.append(salario)\n",
    "                \n",
    "            else:\n",
    "                \n",
    "                salario = jogador[i]/2 + jogador[i + 1]/2\n",
    "            \n",
    "                salario_anual.append(salario)\n",
    "                \n",
    "                         \n",
    "            \n",
    "    df_salarios[nome_jogadores[z]] = salario_anual\n",
    "            \n",
    "            \n",
    "            \n",
    "            \n",
    "        \n",
    "df_salarios       "
   ]
  },
  {
   "cell_type": "code",
   "execution_count": 5,
   "id": "940b2ced",
   "metadata": {},
   "outputs": [],
   "source": [
    "params = {\"ytick.color\" : \"w\",\n",
    "          \"xtick.color\" : \"w\",\n",
    "          \"axes.labelcolor\" : \"w\",\n",
    "          \"axes.edgecolor\" : \"w\"}\n",
    "plt.rcParams.update(params)"
   ]
  },
  {
   "cell_type": "code",
   "execution_count": 10,
   "id": "f7e874e0",
   "metadata": {
    "scrolled": true
   },
   "outputs": [
    {
     "data": {
      "image/png": "[encoded data removed]",
      "text/plain": [
       "<Figure size 900x200 with 1 Axes>"
      ]
     },
     "metadata": {},
     "output_type": "display_data"
    }
   ],
   "source": [
    "jogador = \"CR7\"\n",
    "\n",
    "def millions(x, pos):\n",
    "    'The two args are the value and tick position'\n",
    "    return 'R$%1.0fM' % (x * 1e-6)\n",
    "\n",
    "fig, ax = plt.subplots(figsize = (9, 2))\n",
    "\n",
    "ax.plot(df_salarios.index, df_salarios[jogador].values, marker = \"o\", color = \"white\")\n",
    "ax.spines[['right', 'top']].set_visible(False)\n",
    "\n",
    "# formatter = FuncFormatter(millions)\n",
    "\n",
    "# plt.xticks(rotation=45)\n",
    "# ax.yaxis.set_major_formatter(formatter)\n",
    "# ax.xaxis.set_ticks(np.arange(anos[0], anos[-1], 1))\n",
    "plt.xticks(np.arange(anos[0], anos[-1] + 1, 1))\n",
    "\n",
    "# xs = df_salarios.index\n",
    "# ys = df_salarios[jogador].values\n",
    "\n",
    "\n",
    "# for x,y in zip(xs,ys):\n",
    "\n",
    "#     label = \"R$\" + \"{:.0f}\".format(y/1000000) + \"MM\"\n",
    "    \n",
    "#     if x == 2022 and jogador == \"CR7\":\n",
    "\n",
    "#         plt.annotate(label, # this is the text\n",
    "#                      (x + 0.15,y + 10000000), # these are the coordinates to position the label\n",
    "#                      textcoords=\"offset points\", # how to position the text\n",
    "#                      xytext=(0,10), # distance from text to points (x,y)\n",
    "#                      ha='left') # horizontal alignment can be left, right or center\n",
    "        \n",
    "#     else:\n",
    "        \n",
    "#         plt.annotate(label, # this is the text\n",
    "#                      (x,y + 10000000), # these are the coordinates to position the label\n",
    "#                      textcoords=\"offset points\", # how to position the text\n",
    "#                      xytext=(0,10), # distance from text to points (x,y)\n",
    "#                     ha='center') # horizontal alignment can be left, right or center\n",
    "        \n",
    "ax.xaxis.set_ticklabels([])\n",
    "ax.yaxis.set_ticklabels([])    \n",
    "\n",
    "plt.savefig('cr7semnada.png', transparent=True)"
   ]
  },
  {
   "cell_type": "code",
   "execution_count": 71,
   "id": "826c1213",
   "metadata": {},
   "outputs": [
    {
     "name": "stdout",
     "output_type": "stream",
     "text": [
      "Neymar    1.965077e+09\n",
      "Messi     2.550303e+09\n",
      "CR7       2.622280e+09\n",
      "dtype: float64\n"
     ]
    }
   ],
   "source": [
    "print(df_salarios.sum())"
   ]
  },
  {
   "cell_type": "code",
   "execution_count": null,
   "id": "953cd362",
   "metadata": {},
   "outputs": [],
   "source": []
  }
 ],
 "metadata": {
  "kernelspec": {
   "display_name": "Python 3 (ipykernel)",
   "language": "python",
   "name": "python3"
  },
  "language_info": {
   "codemirror_mode": {
    "name": "ipython",
    "version": 3
   },
   "file_extension": ".py",
   "mimetype": "text/x-python",
   "name": "python",
   "nbconvert_exporter": "python",
   "pygments_lexer": "ipython3",
   "version": "3.9.12"
  }
 },
 "nbformat": 4,
 "nbformat_minor": 5
}
