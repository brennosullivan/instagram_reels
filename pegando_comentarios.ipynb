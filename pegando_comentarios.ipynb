{
 "cells": [
  {
   "cell_type": "code",
   "execution_count": 1,
   "metadata": {},
   "outputs": [
    {
     "name": "stdout",
     "output_type": "stream",
     "text": [
      "fuckthepolice\n",
      "vinichacotinha\n"
     ]
    }
   ],
   "source": [
    "import pandas as pd\n",
    "from selenium import webdriver\n",
    "from selenium.webdriver.chrome.options import Options\n",
    "from webdriver_manager.chrome import ChromeDriverManager\n",
    "import chromedriver_autoinstaller as chromedriver\n",
    "from selenium.webdriver.chrome.service import Service\n",
    "from selenium.webdriver.support.ui import WebDriverWait\n",
    "from selenium.webdriver.support import expected_conditions as ec\n",
    "from selenium.webdriver.common.by import By\n",
    "import time\n",
    "from bs4 import BeautifulSoup\n",
    "import re\n",
    "import os\n",
    "\n",
    "usuario = os.getenv(\"usuario\")\n",
    "senha = os.getenv(\"senha\")\n",
    "\n",
    "headers={'user-agent': 'Mozilla/5.0 (X11; Linux x86_64) AppleWebKit/537.36 (KHTML, like Gecko) Chrome/106.0.0.0 Safari/537.36'}\n",
    "\n"
   ]
  },
  {
   "cell_type": "code",
   "execution_count": 22,
   "metadata": {},
   "outputs": [],
   "source": [
    "chromedriver.install()\n",
    "chrome_options = Options()\n",
    "# chrome_options.add_argument('--headless')\n",
    "chrome_options.add_argument('--no-sandbox')\n",
    "chrome_options.add_argument('--disable-dev-shm-usage')\n",
    "chrome_options.add_argument('--log-level=3')\n",
    "chrome_options.add_argument('--disable-gpu')\n",
    "chrome_options.add_experimental_option('excludeSwitches', ['enable-logging'])\n"
   ]
  },
  {
   "cell_type": "code",
   "execution_count": null,
   "metadata": {},
   "outputs": [],
   "source": [
    "service = Service(executable_path=ChromeDriverManager().install())\n",
    "driver = webdriver.Chrome(service=service, options=chrome_options)\n",
    "\n",
    "url = \"https://www.instagram.com/p/CqJeJ_FgFxP/\"\n",
    "driver.get(url)\n",
    "driver.implicitly_wait(20)\n",
    "driver.maximize_window()\n",
    "time.sleep(3)\n",
    "\n",
    "WebDriverWait(driver, 10).until(ec.element_to_be_clickable(\n",
    "    (By.XPATH, \"/html/body/div[2]/div/div/div[1]/div/div/div/div[1]/section/nav/div[2]/div/div/div[3]/div/div[2]/div[1]/a/button\"))).click()\n",
    "\n",
    "caixa_usuario = driver.find_element(\"xpath\", \"/html/body/div[2]/div/div/div[1]/div/div/div/div[1]/section/main/div/div/div[1]/div[2]/form/div/div[1]/div/label/input\")\n",
    "caixa_usuario.send_keys(usuario)\n",
    "\n",
    "caixa_senha = driver.find_element(\"xpath\", \"/html/body/div[2]/div/div/div[1]/div/div/div/div[1]/section/main/div/div/div[1]/div[2]/form/div/div[2]/div/label/input\")\n",
    "caixa_senha.send_keys(senha)\n",
    "\n",
    "WebDriverWait(driver, 10).until(ec.element_to_be_clickable(\n",
    "    (By.XPATH, \"/html/body/div[2]/div/div/div[1]/div/div/div/div[1]/section/main/div/div/div[1]/div[2]/form/div/div[3]/button\"))).click() \n",
    "time.sleep(3)\n",
    "WebDriverWait(driver, 10).until(ec.element_to_be_clickable(\n",
    "    (By.XPATH, \"/html/body/div[2]/div/div/div[1]/div/div/div/div[1]/div[1]/div[2]/section/main/div/div/div/section/div/button\"))).click() \n",
    "time.sleep(2)\n",
    "while True:\n",
    "    try:\n",
    "        WebDriverWait(driver, 10).until(ec.element_to_be_clickable(\n",
    "            (By.XPATH, \"/html/body/div[2]/div/div/div[1]/div/div/div/div[1]/div[1]/div[2]/section/main/div[1]/div[1]/article/div/div[2]/div/div[2]/div[1]/ul/li/div/button\"))).click() \n",
    "    except Exception as error:\n",
    "        print(error)\n",
    "        break\n",
    "\n",
    "inspect = '/html/body/div[2]/div/div/div[1]/div/div/div/div[1]/div[1]/div[2]/section/main/div[1]/div[1]/article/div/div[2]/div/div[2]/div[1]'\n",
    "element = driver.find_element('xpath', f'{inspect}')\n",
    "html_element = element.get_attribute('outerHTML')\n",
    "soup = BeautifulSoup(html_element, 'html.parser')\n",
    "\n",
    "soup"
   ]
  },
  {
   "cell_type": "code",
   "execution_count": 1,
   "metadata": {},
   "outputs": [
    {
     "ename": "NameError",
     "evalue": "name 'soup' is not defined",
     "output_type": "error",
     "traceback": [
      "\u001b[1;31m---------------------------------------------------------------------------\u001b[0m",
      "\u001b[1;31mNameError\u001b[0m                                 Traceback (most recent call last)",
      "\u001b[1;32m~\\AppData\\Local\\Temp\\ipykernel_10220\\4116396453.py\u001b[0m in \u001b[0;36m<module>\u001b[1;34m\u001b[0m\n\u001b[1;32m----> 1\u001b[1;33m \u001b[0mlista_comentarios\u001b[0m \u001b[1;33m=\u001b[0m \u001b[0msoup\u001b[0m\u001b[1;33m.\u001b[0m\u001b[0mfind_all\u001b[0m\u001b[1;33m(\u001b[0m\u001b[1;34m\"span\"\u001b[0m\u001b[1;33m,\u001b[0m\u001b[1;34m\"_aacl _aaco _aacu _aacx _aad7 _aade\"\u001b[0m\u001b[1;33m)\u001b[0m\u001b[1;33m\u001b[0m\u001b[1;33m\u001b[0m\u001b[0m\n\u001b[0m\u001b[0;32m      2\u001b[0m \u001b[1;33m\u001b[0m\u001b[0m\n\u001b[0;32m      3\u001b[0m \u001b[0mlista_numeros\u001b[0m \u001b[1;33m=\u001b[0m \u001b[1;33m[\u001b[0m\u001b[1;33m]\u001b[0m\u001b[1;33m\u001b[0m\u001b[1;33m\u001b[0m\u001b[0m\n\u001b[0;32m      4\u001b[0m \u001b[0mlista_textos\u001b[0m \u001b[1;33m=\u001b[0m \u001b[1;33m[\u001b[0m\u001b[1;33m]\u001b[0m\u001b[1;33m\u001b[0m\u001b[1;33m\u001b[0m\u001b[0m\n\u001b[0;32m      5\u001b[0m \u001b[1;32mfor\u001b[0m \u001b[0mcomentarios\u001b[0m \u001b[1;32min\u001b[0m \u001b[0mlista_comentarios\u001b[0m\u001b[1;33m:\u001b[0m\u001b[1;33m\u001b[0m\u001b[1;33m\u001b[0m\u001b[0m\n",
      "\u001b[1;31mNameError\u001b[0m: name 'soup' is not defined"
     ]
    }
   ],
   "source": [
    "lista_comentarios = soup.find_all(\"span\",\"_aacl _aaco _aacu _aacx _aad7 _aade\")\n",
    "\n",
    "lista_numeros = []\n",
    "lista_textos = []\n",
    "for comentarios in lista_comentarios:\n",
    "    numero = re.compile(r'\\d+')\n",
    "    numeros = numero.findall(comentarios.text)\n",
    "\n",
    "    if len(numeros) == 1:\n",
    "        lista_numeros.append(numeros[0])\n",
    "        lista_textos.append(comentarios)\n",
    "    else:\n",
    "        lista_numeros.append(numeros)\n",
    "        lista_textos.append(comentarios.text)\n",
    "\n",
    "\n",
    "df = pd.DataFrame(list(zip(lista_numeros,lista_textos)), columns=['numeros','comentarios'])\n",
    "print(df)\n",
    "df.to_excel(\"comentarios.xlsx\")\n"
   ]
  }
 ],
 "metadata": {
  "kernelspec": {
   "display_name": "base",
   "language": "python",
   "name": "python3"
  },
  "language_info": {
   "codemirror_mode": {
    "name": "ipython",
    "version": 3
   },
   "file_extension": ".py",
   "mimetype": "text/x-python",
   "name": "python",
   "nbconvert_exporter": "python",
   "pygments_lexer": "ipython3",
   "version": "3.9.13"
  },
  "orig_nbformat": 4
 },
 "nbformat": 4,
 "nbformat_minor": 2
}
