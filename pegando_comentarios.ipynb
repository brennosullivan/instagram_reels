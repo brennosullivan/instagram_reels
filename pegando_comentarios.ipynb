{
 "cells": [
  {
   "cell_type": "code",
   "execution_count": 2,
   "metadata": {},
   "outputs": [],
   "source": [
    "import pandas as pd\n",
    "from selenium import webdriver\n",
    "from selenium.webdriver.chrome.options import Options\n",
    "from webdriver_manager.chrome import ChromeDriverManager\n",
    "from selenium.webdriver.chrome.service import Service\n",
    "from selenium.webdriver.support.ui import WebDriverWait\n",
    "from selenium.webdriver.support import expected_conditions as ec\n",
    "from selenium.webdriver.common.by import By\n",
    "import time\n",
    "from bs4 import BeautifulSoup\n",
    "import re\n",
    "import os\n",
    "\n",
    "#usuario = os.getenv(\"usuario\")\n",
    "#senha = os.getenv(\"senha\")\n",
    "\n",
    "headers={'user-agent': 'Mozilla/5.0 (X11; Linux x86_64) AppleWebKit/537.36 (KHTML, like Gecko) Chrome/106.0.0.0 Safari/537.36'}\n",
    "\n"
   ]
  },
  {
   "cell_type": "code",
   "execution_count": null,
   "metadata": {},
   "outputs": [],
   "source": [
    "chromedriver.install()\n",
    "chrome_options = Options()\n",
    "# chrome_options.add_argument('--headless')\n",
    "chrome_options.add_argument('--no-sandbox')\n",
    "chrome_options.add_argument('--disable-dev-shm-usage')\n",
    "chrome_options.add_argument('--log-level=3')\n",
    "chrome_options.add_argument('--disable-gpu')\n",
    "chrome_options.add_experimental_option('excludeSwitches', ['enable-logging'])\n"
   ]
  },
  {
   "cell_type": "code",
   "execution_count": null,
   "metadata": {},
   "outputs": [],
   "source": [
    "service = Service(executable_path=ChromeDriverManager().install())\n",
    "driver = webdriver.Chrome(service=service, options=chrome_options)\n",
    "\n",
    "url = \"https://www.instagram.com/p/CqJeJ_FgFxP/\"\n",
    "driver.get(url)\n",
    "driver.implicitly_wait(20)\n",
    "driver.maximize_window()\n",
    "time.sleep(3)\n",
    "\n",
    "WebDriverWait(driver, 10).until(ec.element_to_be_clickable(\n",
    "    (By.XPATH, \"/html/body/div[2]/div/div/div[1]/div/div/div/div[1]/section/nav/div[2]/div/div/div[3]/div/div[2]/div[1]/a/button\"))).click()\n",
    "\n",
    "caixa_usuario = driver.find_element(\"xpath\", \"/html/body/div[2]/div/div/div[1]/div/div/div/div[1]/section/main/div/div/div[1]/div[2]/form/div/div[1]/div/label/input\")\n",
    "caixa_usuario.send_keys(usuario)\n",
    "\n",
    "caixa_senha = driver.find_element(\"xpath\", \"/html/body/div[2]/div/div/div[1]/div/div/div/div[1]/section/main/div/div/div[1]/div[2]/form/div/div[2]/div/label/input\")\n",
    "caixa_senha.send_keys(senha)\n",
    "\n",
    "WebDriverWait(driver, 10).until(ec.element_to_be_clickable(\n",
    "    (By.XPATH, \"/html/body/div[2]/div/div/div[1]/div/div/div/div[1]/section/main/div/div/div[1]/div[2]/form/div/div[3]/button\"))).click() \n",
    "time.sleep(3)\n",
    "WebDriverWait(driver, 10).until(ec.element_to_be_clickable(\n",
    "    (By.XPATH, \"/html/body/div[2]/div/div/div[1]/div/div/div/div[1]/div[1]/div[2]/section/main/div/div/div/section/div/button\"))).click() \n",
    "time.sleep(2)\n",
    "while True:\n",
    "    try:\n",
    "        WebDriverWait(driver, 10).until(ec.element_to_be_clickable(\n",
    "            (By.XPATH, \"/html/body/div[2]/div/div/div[1]/div/div/div/div[1]/div[1]/div[2]/section/main/div[1]/div[1]/article/div/div[2]/div/div[2]/div[1]/ul/li/div/button\"))).click() \n",
    "    except Exception as error:\n",
    "        print(error)\n",
    "        break\n",
    "\n",
    "inspect = '/html/body/div[2]/div/div/div[1]/div/div/div/div[1]/div[1]/div[2]/section/main/div[1]/div[1]/article/div/div[2]/div/div[2]/div[1]'\n",
    "element = driver.find_element('xpath', f'{inspect}')\n",
    "html_element = element.get_attribute('outerHTML')\n",
    "soup = BeautifulSoup(html_element, 'html.parser')\n",
    "\n",
    "soup"
   ]
  },
  {
   "cell_type": "code",
   "execution_count": null,
   "metadata": {},
   "outputs": [],
   "source": [
    "lista_comentarios = soup.find_all(\"span\",\"_aacl _aaco _aacu _aacx _aad7 _aade\")\n",
    "\n",
    "lista_numeros = []\n",
    "lista_textos = []\n",
    "for comentarios in lista_comentarios:\n",
    "    numero = re.compile(r'\\d+')\n",
    "    numeros = numero.findall(comentarios.text)\n",
    "\n",
    "    if len(numeros) == 1:\n",
    "        lista_numeros.append(numeros[0])\n",
    "        lista_textos.append(comentarios)\n",
    "    else:\n",
    "        lista_numeros.append(numeros)\n",
    "        lista_textos.append(comentarios.text)\n",
    "\n",
    "\n",
    "df = pd.DataFrame(list(zip(lista_numeros,lista_textos)), columns=['numeros','comentarios'])\n",
    "print(df)\n",
    "df.to_excel(\"comentarios.xlsx\")\n"
   ]
  },
  {
   "cell_type": "code",
   "execution_count": 17,
   "metadata": {},
   "outputs": [],
   "source": [
    "import os\n",
    "from matplotlib import pyplot as plt\n",
    "import mplcyberpunk"
   ]
  },
  {
   "cell_type": "code",
   "execution_count": 27,
   "metadata": {},
   "outputs": [],
   "source": [
    "plt.style.use(\"cyberpunk\")"
   ]
  },
  {
   "cell_type": "code",
   "execution_count": 11,
   "metadata": {},
   "outputs": [],
   "source": [
    "def tryconvert(value, default, *types):\n",
    "    for t in types:\n",
    "        try:\n",
    "            return t(value)\n",
    "        except (ValueError, TypeError):\n",
    "            continue\n",
    "    return default"
   ]
  },
  {
   "cell_type": "code",
   "execution_count": 39,
   "metadata": {},
   "outputs": [
    {
     "data": {
      "text/plain": [
       "438.1071537290715"
      ]
     },
     "execution_count": 39,
     "metadata": {},
     "output_type": "execute_result"
    }
   ],
   "source": [
    "os.chdir(\"/home/brenno/Documentos/instagram_reels/dados\")\n",
    "\n",
    "tabela = pd.read_excel(\"comentarios.xlsx\")\n",
    "\n",
    "tabela = tabela['numeros']\n",
    "\n",
    "tabela = tabela.apply(lambda x: tryconvert(x, pd.NA, int))\n",
    "\n",
    "tabela = tabela.dropna()\n",
    "\n",
    "tabela = tabela.apply(lambda x: x if x < 1500 else pd.NA)\n",
    "\n",
    "tabela = tabela.dropna()\n",
    "\n",
    "tabela = tabela.apply(lambda x: x if x > 75 else pd.NA)\n",
    "\n",
    "tabela = tabela.dropna()\n",
    "\n",
    "\n",
    "tabela.mean()"
   ]
  },
  {
   "cell_type": "code",
   "execution_count": 41,
   "metadata": {},
   "outputs": [
    {
     "data": {
      "image/png": "[encoded data removed]",
      "text/plain": [
       "<Figure size 640x480 with 1 Axes>"
      ]
     },
     "metadata": {},
     "output_type": "display_data"
    }
   ],
   "source": [
    "valores = tabela.values\n",
    "plt.hist(valores, bins = 50)\n",
    "plt.show()"
   ]
  },
  {
   "cell_type": "code",
   "execution_count": 29,
   "metadata": {},
   "outputs": [
    {
     "data": {
      "text/plain": [
       "0       539\n",
       "1       429\n",
       "2       312\n",
       "3       323\n",
       "4       432\n",
       "       ... \n",
       "3466    285\n",
       "3467    373\n",
       "3468    504\n",
       "3469    307\n",
       "3471    381\n",
       "Name: numeros, Length: 3351, dtype: object"
      ]
     },
     "execution_count": 29,
     "metadata": {},
     "output_type": "execute_result"
    }
   ],
   "source": [
    "tabela"
   ]
  },
  {
   "cell_type": "code",
   "execution_count": null,
   "metadata": {},
   "outputs": [],
   "source": []
  }
 ],
 "metadata": {
  "kernelspec": {
   "display_name": "Python 3 (ipykernel)",
   "language": "python",
   "name": "python3"
  },
  "language_info": {
   "codemirror_mode": {
    "name": "ipython",
    "version": 3
   },
   "file_extension": ".py",
   "mimetype": "text/x-python",
   "name": "python",
   "nbconvert_exporter": "python",
   "pygments_lexer": "ipython3",
   "version": "3.9.12"
  }
 },
 "nbformat": 4,
 "nbformat_minor": 2
}
