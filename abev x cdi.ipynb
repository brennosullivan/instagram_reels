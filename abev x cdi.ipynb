{
 "cells": [
  {
   "cell_type": "code",
   "execution_count": null,
   "id": "6b354eb4",
   "metadata": {},
   "outputs": [],
   "source": [
    "import yfinance as yf\n",
    "import matplotlib.pyplot as plt\n",
    "import quandl\n",
    "import mplcyberpunk\n",
    "\n",
    "plt.style.use(\"cyberpunk\")"
   ]
  },
  {
   "cell_type": "code",
   "execution_count": null,
   "id": "0a79aae1",
   "metadata": {},
   "outputs": [],
   "source": [
    "# busca os dados da Ambev e do CDI\n",
    "ambev_data = yf.download('ABEV3.SA', start='2013-01-01')\n",
    "cdi_data = quandl.get('BCB/11', start_date='2013-01-01')\n",
    "\n",
    "# normaliza os dados de retorno\n",
    "ambev_returns = ambev_data['Adj Close'].pct_change().dropna()\n",
    "cdi_returns = cdi_data['Value']/100\n",
    "\n",
    "# calcula o retorno acumulado\n",
    "ambev_cumulative_return = (1 + ambev_returns).cumprod() - 1\n",
    "cdi_cumulative_return = (1 + cdi_returns).cumprod() - 1\n",
    "\n",
    "# plota o gráfico comparando os retornos acumulados\n",
    "plt.plot(ambev_cumulative_return, label='Ambev')\n",
    "plt.plot(cdi_cumulative_return, label='CDI')\n",
    "plt.legend()\n",
    "plt.title('Retornos Acumulados da Ambev e do CDI')\n",
    "plt.show()"
   ]
  },
  {
   "cell_type": "code",
   "execution_count": null,
   "id": "7d03c653",
   "metadata": {},
   "outputs": [],
   "source": []
  }
 ],
 "metadata": {
  "kernelspec": {
   "display_name": "Python 3 (ipykernel)",
   "language": "python",
   "name": "python3"
  },
  "language_info": {
   "codemirror_mode": {
    "name": "ipython",
    "version": 3
   },
   "file_extension": ".py",
   "mimetype": "text/x-python",
   "name": "python",
   "nbconvert_exporter": "python",
   "pygments_lexer": "ipython3",
   "version": "3.9.12"
  }
 },
 "nbformat": 4,
 "nbformat_minor": 5
}
