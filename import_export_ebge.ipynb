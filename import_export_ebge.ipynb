{
 "cells": [
  {
   "cell_type": "markdown",
   "id": "880b433f",
   "metadata": {},
   "source": [
    "# Dados de importação e exportação IBGE"
   ]
  },
  {
   "cell_type": "code",
   "execution_count": 6,
   "id": "0a766549",
   "metadata": {},
   "outputs": [],
   "source": [
    "import requests\n",
    "import pandas as pd"
   ]
  },
  {
   "cell_type": "code",
   "execution_count": 7,
   "id": "94f913b8",
   "metadata": {},
   "outputs": [],
   "source": [
    "paises = \"BR\"\n",
    "indicadores = \"77825|77826\"\n",
    "nomes = ['Exportações', 'Importações']"
   ]
  },
  {
   "cell_type": "code",
   "execution_count": 8,
   "id": "2532ec65",
   "metadata": {},
   "outputs": [],
   "source": [
    "response = requests.get(f'''\n",
    "https://servicodados.ibge.gov.br/api/v1/paises/{paises}/indicadores/{indicadores}\n",
    "''')\n",
    "\n",
    "lista_dfs = []"
   ]
  },
  {
   "cell_type": "code",
   "execution_count": 9,
   "id": "ff052aaa",
   "metadata": {},
   "outputs": [],
   "source": [
    "data = response.json()\n",
    "\n",
    "for i, nome in enumerate(nomes):\n",
    "    \n",
    "    lista_anos = []\n",
    "    lista_valores = []\n",
    "    \n",
    "    for informacoes in data[i]['series'][0]['serie']:\n",
    "        \n",
    "        valores = list(informacoes.items())\n",
    "        lista_anos.append(valores[0][0])\n",
    "        lista_valores.append(valores[0][1])\n",
    "        \n",
    "    df = pd.DataFrame(list(zip(lista_anos, lista_valores)), \n",
    "                      columns = ['Anos', f\"{nome}\"]).dropna()\n",
    "    \n",
    "    lista_dfs.append(df)"
   ]
  },
  {
   "cell_type": "code",
   "execution_count": 10,
   "id": "1a7c83df",
   "metadata": {},
   "outputs": [
    {
     "data": {
      "text/html": [
       "<div>\n",
       "<style scoped>\n",
       "    .dataframe tbody tr th:only-of-type {\n",
       "        vertical-align: middle;\n",
       "    }\n",
       "\n",
       "    .dataframe tbody tr th {\n",
       "        vertical-align: top;\n",
       "    }\n",
       "\n",
       "    .dataframe thead th {\n",
       "        text-align: right;\n",
       "    }\n",
       "</style>\n",
       "<table border=\"1\" class=\"dataframe\">\n",
       "  <thead>\n",
       "    <tr style=\"text-align: right;\">\n",
       "      <th></th>\n",
       "      <th>Exportações</th>\n",
       "      <th>Importações</th>\n",
       "    </tr>\n",
       "    <tr>\n",
       "      <th>Anos</th>\n",
       "      <th></th>\n",
       "      <th></th>\n",
       "    </tr>\n",
       "  </thead>\n",
       "  <tbody>\n",
       "    <tr>\n",
       "      <th>2013</th>\n",
       "      <td>R$242.0 bilhões</td>\n",
       "      <td>R$240.0 bilhões</td>\n",
       "    </tr>\n",
       "    <tr>\n",
       "      <th>2014</th>\n",
       "      <td>R$225.0 bilhões</td>\n",
       "      <td>R$229.0 bilhões</td>\n",
       "    </tr>\n",
       "    <tr>\n",
       "      <th>2015</th>\n",
       "      <td>R$191.0 bilhões</td>\n",
       "      <td>R$171.0 bilhões</td>\n",
       "    </tr>\n",
       "    <tr>\n",
       "      <th>2016</th>\n",
       "      <td>R$180.0 bilhões</td>\n",
       "      <td>R$145.0 bilhões</td>\n",
       "    </tr>\n",
       "    <tr>\n",
       "      <th>2017</th>\n",
       "      <td>R$215.0 bilhões</td>\n",
       "      <td>R$166.0 bilhões</td>\n",
       "    </tr>\n",
       "    <tr>\n",
       "      <th>2018</th>\n",
       "      <td>R$232.0 bilhões</td>\n",
       "      <td>R$193.0 bilhões</td>\n",
       "    </tr>\n",
       "    <tr>\n",
       "      <th>2019</th>\n",
       "      <td>R$221.0 bilhões</td>\n",
       "      <td>R$193.0 bilhões</td>\n",
       "    </tr>\n",
       "    <tr>\n",
       "      <th>2020</th>\n",
       "      <td>R$209.0 bilhões</td>\n",
       "      <td>R$166.0 bilhões</td>\n",
       "    </tr>\n",
       "  </tbody>\n",
       "</table>\n",
       "</div>"
      ],
      "text/plain": [
       "          Exportações      Importações\n",
       "Anos                                  \n",
       "2013  R$242.0 bilhões  R$240.0 bilhões\n",
       "2014  R$225.0 bilhões  R$229.0 bilhões\n",
       "2015  R$191.0 bilhões  R$171.0 bilhões\n",
       "2016  R$180.0 bilhões  R$145.0 bilhões\n",
       "2017  R$215.0 bilhões  R$166.0 bilhões\n",
       "2018  R$232.0 bilhões  R$193.0 bilhões\n",
       "2019  R$221.0 bilhões  R$193.0 bilhões\n",
       "2020  R$209.0 bilhões  R$166.0 bilhões"
      ]
     },
     "execution_count": 10,
     "metadata": {},
     "output_type": "execute_result"
    }
   ],
   "source": [
    "df_final = pd.merge(lista_dfs[0], lista_dfs[1], on = \"Anos\")\n",
    "df_final = df_final.set_index(\"Anos\")\n",
    "df_final = df_final.applymap(lambda x: \"R$\" + str(round(int(x)/1000000000, 0)) + \" bilhões\")\n",
    "\n",
    "df_final"
   ]
  },
  {
   "cell_type": "code",
   "execution_count": null,
   "id": "2e5c8cc2",
   "metadata": {},
   "outputs": [],
   "source": []
  }
 ],
 "metadata": {
  "kernelspec": {
   "display_name": "Python 3 (ipykernel)",
   "language": "python",
   "name": "python3"
  },
  "language_info": {
   "codemirror_mode": {
    "name": "ipython",
    "version": 3
   },
   "file_extension": ".py",
   "mimetype": "text/x-python",
   "name": "python",
   "nbconvert_exporter": "python",
   "pygments_lexer": "ipython3",
   "version": "3.9.12"
  }
 },
 "nbformat": 4,
 "nbformat_minor": 5
}
