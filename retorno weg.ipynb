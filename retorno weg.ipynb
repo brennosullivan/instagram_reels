{
 "cells": [
  {
   "cell_type": "markdown",
   "id": "53c02fcc",
   "metadata": {},
   "source": [
    "# Retorno ano a ano da Weg desde 2000"
   ]
  },
  {
   "cell_type": "code",
   "execution_count": 10,
   "id": "9e90224f",
   "metadata": {},
   "outputs": [
    {
     "name": "stdout",
     "output_type": "stream",
     "text": [
      "[*********************100%***********************]  1 of 1 completed\n"
     ]
    },
    {
     "data": {
      "text/plain": [
       "Date\n",
       "2001    0.652542\n",
       "2002    0.210257\n",
       "2003    1.118645\n",
       "2004    0.530002\n",
       "2005   -0.019608\n",
       "2006    0.733333\n",
       "2007    0.938463\n",
       "2008   -0.493687\n",
       "2009    0.512027\n",
       "2010    0.207582\n",
       "2011   -0.112600\n",
       "2012    0.473643\n",
       "2013    0.183595\n",
       "2014    0.304571\n",
       "2015    0.003352\n",
       "2016    0.063371\n",
       "2017    0.585262\n",
       "2018   -0.037392\n",
       "2019    1.007020\n",
       "2020    1.202823\n",
       "2021   -0.119122\n",
       "2022    0.188505\n",
       "2023   -0.029603\n",
       "Name: Adj Close, dtype: float64"
      ]
     },
     "execution_count": 10,
     "metadata": {},
     "output_type": "execute_result"
    }
   ],
   "source": [
    "import yfinance as yf\n",
    "\n",
    "weg = yf.download(\"WEGE3.SA\")['Adj Close']\n",
    "\n",
    "weg = weg.resample(\"Y\").last().pct_change().dropna()\n",
    "\n",
    "weg.index = weg.index.year\n",
    "\n",
    "weg"
   ]
  },
  {
   "cell_type": "code",
   "execution_count": null,
   "id": "7990d918",
   "metadata": {},
   "outputs": [],
   "source": []
  }
 ],
 "metadata": {
  "kernelspec": {
   "display_name": "Python 3 (ipykernel)",
   "language": "python",
   "name": "python3"
  },
  "language_info": {
   "codemirror_mode": {
    "name": "ipython",
    "version": 3
   },
   "file_extension": ".py",
   "mimetype": "text/x-python",
   "name": "python",
   "nbconvert_exporter": "python",
   "pygments_lexer": "ipython3",
   "version": "3.9.12"
  }
 },
 "nbformat": 4,
 "nbformat_minor": 5
}
